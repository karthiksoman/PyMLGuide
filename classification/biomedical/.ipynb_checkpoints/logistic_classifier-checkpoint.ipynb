{
 "cells": [
  {
   "cell_type": "code",
   "execution_count": 162,
   "id": "b85ee2c6",
   "metadata": {},
   "outputs": [],
   "source": [
    "import pandas as pd\n",
    "import numpy as np\n",
    "import requests, zipfile, io\n",
    "import os\n",
    "import matplotlib.pyplot as plt\n",
    "import seaborn as sns\n",
    "from sklearn.preprocessing import LabelEncoder\n",
    "from sklearn.model_selection import train_test_split\n",
    "from sklearn.preprocessing import StandardScaler\n",
    "from sklearn.linear_model import LogisticRegression\n",
    "from sklearn.metrics import roc_curve, roc_auc_score\n",
    "from sklearn.utils.class_weight import compute_sample_weight\n",
    "from sklearn.ensemble import RandomForestClassifier\n"
   ]
  },
  {
   "cell_type": "code",
   "execution_count": 121,
   "id": "39afcb19",
   "metadata": {},
   "outputs": [],
   "source": [
    "def map_diagnosis(data, cols):\n",
    "    for col in cols:\n",
    "        data.loc[(data[col].str.contains(\"V\")) | (data[col].str.contains(\"E\")), col] = -1\n",
    "        data[col] = data[col].astype(np.float16)\n",
    "\n",
    "    for col in cols:\n",
    "        data[\"temp_diag\"] = np.nan\n",
    "        data.loc[(data[col]>=390) & (data[col]<=459) | (data[col]==785), \"temp_diag\"] = \"Circulatory\"\n",
    "        data.loc[(data[col]>=460) & (data[col]<=519) | (data[col]==786), \"temp_diag\"] = \"Respiratory\"\n",
    "        data.loc[(data[col]>=520) & (data[col]<=579) | (data[col]==787), \"temp_diag\"] = \"Digestive\"\n",
    "        data.loc[(data[col]>=250) & (data[col]<251), \"temp_diag\"] = \"Diabetes\"\n",
    "        data.loc[(data[col]>=800) & (data[col]<=999), \"temp_diag\"] = \"Injury\"\n",
    "        data.loc[(data[col]>=710) & (data[col]<=739), \"temp_diag\"] = \"Muscoloskeletal\"\n",
    "        data.loc[(data[col]>=580) & (data[col]<=629) | (data[col] == 788), \"temp_diag\"] = \"Genitourinary\"\n",
    "        data.loc[(data[col]>=140) & (data[col]<=239), \"temp_diag\"] = \"Neoplasms\"\n",
    "\n",
    "        data[\"temp_diag\"] = data[\"temp_diag\"].fillna(\"Other\")\n",
    "        data[col] = data[\"temp_diag\"]\n",
    "        data = data.drop(\"temp_diag\", axis=1)\n",
    "    return data\n",
    "\n",
    "def preprocess_data(data):\n",
    "    data = data.replace(\"?\",np.nan)\n",
    "    data = data.replace({\"NO\":0,\n",
    "                         \"<30\":1,\n",
    "                         \">30\":0})\n",
    "\n",
    "    mapped_race = {\"Asian\":\"Other\",\"Hispanic\":\"Other\"}\n",
    "    data.race = data.race.replace(mapped_race)\n",
    "\n",
    "    # Dropping Unknown gender since it is only just 1 sample\n",
    "    data = data.drop(data.loc[data[\"gender\"]==\"Unknown/Invalid\"].index, axis=0)\n",
    "\n",
    "    data.age = data.age.replace({\"[70-80)\":75,\n",
    "                             \"[60-70)\":65,\n",
    "                             \"[50-60)\":55,\n",
    "                             \"[80-90)\":85,\n",
    "                             \"[40-50)\":45,\n",
    "                             \"[30-40)\":35,\n",
    "                             \"[90-100)\":95,\n",
    "                             \"[20-30)\":25,\n",
    "                             \"[10-20)\":15,\n",
    "                             \"[0-10)\":5})\n",
    "\n",
    "    mapped = {1.0:\"Emergency\",\n",
    "              2.0:\"Emergency\",\n",
    "              3.0:\"Elective\",\n",
    "              4.0:\"New Born\",\n",
    "              5.0:np.nan,\n",
    "              6.0:np.nan,\n",
    "              7.0:\"Trauma Center\",\n",
    "              8.0:np.nan}\n",
    "\n",
    "    data.admission_type_id = data.admission_type_id.replace(mapped)\n",
    "\n",
    "    mapped_discharge = {1:\"Discharged to Home\",\n",
    "                        6:\"Discharged to Home\",\n",
    "                        8:\"Discharged to Home\",\n",
    "                        13:\"Discharged to Home\",\n",
    "                        19:\"Discharged to Home\",\n",
    "                        18:np.nan,25:np.nan,26:np.nan,\n",
    "                        2:\"Other\",3:\"Other\",4:\"Other\",\n",
    "                        5:\"Other\",7:\"Other\",9:\"Other\",\n",
    "                        10:\"Other\",11:\"Other\",12:\"Other\",\n",
    "                        14:\"Other\",15:\"Other\",16:\"Other\",\n",
    "                        17:\"Other\",20:\"Other\",21:\"Other\",\n",
    "                        22:\"Other\",23:\"Other\",24:\"Other\",\n",
    "                        27:\"Other\",28:\"Other\",29:\"Other\",30:\"Other\"}\n",
    "\n",
    "    data[\"discharge_disposition_id\"] = data[\"discharge_disposition_id\"].replace(mapped_discharge)\n",
    "\n",
    "    mapped_adm = {1:\"Referral\",2:\"Referral\",3:\"Referral\",\n",
    "                  4:\"Other\",5:\"Other\",6:\"Other\",10:\"Other\",22:\"Other\",25:\"Other\",\n",
    "                  9:\"Other\",8:\"Other\",14:\"Other\",13:\"Other\",11:\"Other\",\n",
    "                  15:np.nan,17:np.nan,20:np.nan,21:np.nan,\n",
    "                  7:\"Emergency\"}\n",
    "    data.admission_source_id = data.admission_source_id.replace(mapped_adm)\n",
    "\n",
    "    data = map_diagnosis(data,[\"diag_1\",\"diag_2\",\"diag_3\"])\n",
    "\n",
    "    data.change = data.change.replace(\"Ch\",\"Yes\")\n",
    "\n",
    "    data[\"max_glu_serum\"] = data[\"max_glu_serum\"].replace({\">200\":2,\n",
    "                                                            \">300\":2,\n",
    "                                                            \"Norm\":1,\n",
    "                                                            \"None\":0}) \n",
    "\n",
    "    data[\"A1Cresult\"] = data[\"A1Cresult\"].replace({\">7\":2,\n",
    "                                               \">8\":2,\n",
    "                                               \"Norm\":1,\n",
    "                                               \"None\":0})\n",
    "\n",
    "    data['race'] = data['race'].fillna(data['race'].mode()[0])\n",
    "    data['admission_type_id'] = data['admission_type_id'].fillna(data['admission_type_id'].mode()[0])\n",
    "    data['discharge_disposition_id'] = data['discharge_disposition_id'].fillna(data['discharge_disposition_id'].mode()[0])\n",
    "    data['admission_source_id'] = data['admission_source_id'].fillna(data['admission_source_id'].mode()[0])\n",
    "    cat_data = data.select_dtypes('O')\n",
    "    num_data = data.select_dtypes(np.number)\n",
    "    le = LabelEncoder()\n",
    "    for i in cat_data:\n",
    "        cat_data[i] = le.fit_transform(cat_data[i])\n",
    "    data = pd.concat([num_data,cat_data],axis=1)\n",
    "    print(\"There are {} unique patients in the data\".format(data.patient_nbr.unique().shape[0]))\n",
    "    data_percentages = data[\"readmitted\"].value_counts(normalize=True) * 100\n",
    "    plt.figure(figsize=(3,2))\n",
    "    sns.barplot(x=data_percentages.index, y=data_percentages.values)\n",
    "    plt.ylabel('Percentage')\n",
    "    plt.xlabel('Readmitted')\n",
    "    plt.title('% of Hospital readmission')\n",
    "    plt.show()\n",
    "    return data\n"
   ]
  },
  {
   "cell_type": "code",
   "execution_count": 7,
   "id": "704f5363",
   "metadata": {},
   "outputs": [],
   "source": [
    "if not os.path.exists(\"../../data\"):\n",
    "    os.mkdir(\"../../data\")\n",
    "\n",
    "DATA_PATH = \"../../data/diabetes_data\"\n",
    "if not os.path.exists(DATA_PATH):\n",
    "    os.mkdir(DATA_PATH)\n",
    "    "
   ]
  },
  {
   "cell_type": "markdown",
   "id": "f75a469b",
   "metadata": {},
   "source": [
    "# Download data"
   ]
  },
  {
   "cell_type": "code",
   "execution_count": 9,
   "id": "947a849c",
   "metadata": {},
   "outputs": [],
   "source": [
    "url = \"https://archive.ics.uci.edu/static/public/296/diabetes+130-us+hospitals+for+years+1999-2008.zip\"\n",
    "response = requests.get(url)\n",
    "z = zipfile.ZipFile(io.BytesIO(response.content))\n",
    "z.extractall(DATA_PATH)\n"
   ]
  },
  {
   "cell_type": "markdown",
   "id": "5a57479f",
   "metadata": {},
   "source": [
    "# Load data"
   ]
  },
  {
   "cell_type": "code",
   "execution_count": 87,
   "id": "e90a3688",
   "metadata": {},
   "outputs": [
    {
     "data": {
      "text/html": [
       "<div>\n",
       "<style scoped>\n",
       "    .dataframe tbody tr th:only-of-type {\n",
       "        vertical-align: middle;\n",
       "    }\n",
       "\n",
       "    .dataframe tbody tr th {\n",
       "        vertical-align: top;\n",
       "    }\n",
       "\n",
       "    .dataframe thead th {\n",
       "        text-align: right;\n",
       "    }\n",
       "</style>\n",
       "<table border=\"1\" class=\"dataframe\">\n",
       "  <thead>\n",
       "    <tr style=\"text-align: right;\">\n",
       "      <th></th>\n",
       "      <th>encounter_id</th>\n",
       "      <th>patient_nbr</th>\n",
       "      <th>race</th>\n",
       "      <th>gender</th>\n",
       "      <th>age</th>\n",
       "      <th>weight</th>\n",
       "      <th>admission_type_id</th>\n",
       "      <th>discharge_disposition_id</th>\n",
       "      <th>admission_source_id</th>\n",
       "      <th>time_in_hospital</th>\n",
       "      <th>...</th>\n",
       "      <th>citoglipton</th>\n",
       "      <th>insulin</th>\n",
       "      <th>glyburide-metformin</th>\n",
       "      <th>glipizide-metformin</th>\n",
       "      <th>glimepiride-pioglitazone</th>\n",
       "      <th>metformin-rosiglitazone</th>\n",
       "      <th>metformin-pioglitazone</th>\n",
       "      <th>change</th>\n",
       "      <th>diabetesMed</th>\n",
       "      <th>readmitted</th>\n",
       "    </tr>\n",
       "  </thead>\n",
       "  <tbody>\n",
       "    <tr>\n",
       "      <th>0</th>\n",
       "      <td>2278392</td>\n",
       "      <td>8222157</td>\n",
       "      <td>Caucasian</td>\n",
       "      <td>Female</td>\n",
       "      <td>[0-10)</td>\n",
       "      <td>?</td>\n",
       "      <td>6</td>\n",
       "      <td>25</td>\n",
       "      <td>1</td>\n",
       "      <td>1</td>\n",
       "      <td>...</td>\n",
       "      <td>No</td>\n",
       "      <td>No</td>\n",
       "      <td>No</td>\n",
       "      <td>No</td>\n",
       "      <td>No</td>\n",
       "      <td>No</td>\n",
       "      <td>No</td>\n",
       "      <td>No</td>\n",
       "      <td>No</td>\n",
       "      <td>NO</td>\n",
       "    </tr>\n",
       "    <tr>\n",
       "      <th>1</th>\n",
       "      <td>149190</td>\n",
       "      <td>55629189</td>\n",
       "      <td>Caucasian</td>\n",
       "      <td>Female</td>\n",
       "      <td>[10-20)</td>\n",
       "      <td>?</td>\n",
       "      <td>1</td>\n",
       "      <td>1</td>\n",
       "      <td>7</td>\n",
       "      <td>3</td>\n",
       "      <td>...</td>\n",
       "      <td>No</td>\n",
       "      <td>Up</td>\n",
       "      <td>No</td>\n",
       "      <td>No</td>\n",
       "      <td>No</td>\n",
       "      <td>No</td>\n",
       "      <td>No</td>\n",
       "      <td>Ch</td>\n",
       "      <td>Yes</td>\n",
       "      <td>&gt;30</td>\n",
       "    </tr>\n",
       "    <tr>\n",
       "      <th>2</th>\n",
       "      <td>64410</td>\n",
       "      <td>86047875</td>\n",
       "      <td>AfricanAmerican</td>\n",
       "      <td>Female</td>\n",
       "      <td>[20-30)</td>\n",
       "      <td>?</td>\n",
       "      <td>1</td>\n",
       "      <td>1</td>\n",
       "      <td>7</td>\n",
       "      <td>2</td>\n",
       "      <td>...</td>\n",
       "      <td>No</td>\n",
       "      <td>No</td>\n",
       "      <td>No</td>\n",
       "      <td>No</td>\n",
       "      <td>No</td>\n",
       "      <td>No</td>\n",
       "      <td>No</td>\n",
       "      <td>No</td>\n",
       "      <td>Yes</td>\n",
       "      <td>NO</td>\n",
       "    </tr>\n",
       "    <tr>\n",
       "      <th>3</th>\n",
       "      <td>500364</td>\n",
       "      <td>82442376</td>\n",
       "      <td>Caucasian</td>\n",
       "      <td>Male</td>\n",
       "      <td>[30-40)</td>\n",
       "      <td>?</td>\n",
       "      <td>1</td>\n",
       "      <td>1</td>\n",
       "      <td>7</td>\n",
       "      <td>2</td>\n",
       "      <td>...</td>\n",
       "      <td>No</td>\n",
       "      <td>Up</td>\n",
       "      <td>No</td>\n",
       "      <td>No</td>\n",
       "      <td>No</td>\n",
       "      <td>No</td>\n",
       "      <td>No</td>\n",
       "      <td>Ch</td>\n",
       "      <td>Yes</td>\n",
       "      <td>NO</td>\n",
       "    </tr>\n",
       "    <tr>\n",
       "      <th>4</th>\n",
       "      <td>16680</td>\n",
       "      <td>42519267</td>\n",
       "      <td>Caucasian</td>\n",
       "      <td>Male</td>\n",
       "      <td>[40-50)</td>\n",
       "      <td>?</td>\n",
       "      <td>1</td>\n",
       "      <td>1</td>\n",
       "      <td>7</td>\n",
       "      <td>1</td>\n",
       "      <td>...</td>\n",
       "      <td>No</td>\n",
       "      <td>Steady</td>\n",
       "      <td>No</td>\n",
       "      <td>No</td>\n",
       "      <td>No</td>\n",
       "      <td>No</td>\n",
       "      <td>No</td>\n",
       "      <td>Ch</td>\n",
       "      <td>Yes</td>\n",
       "      <td>NO</td>\n",
       "    </tr>\n",
       "  </tbody>\n",
       "</table>\n",
       "<p>5 rows × 50 columns</p>\n",
       "</div>"
      ],
      "text/plain": [
       "   encounter_id  patient_nbr             race  gender      age weight  \\\n",
       "0       2278392      8222157        Caucasian  Female   [0-10)      ?   \n",
       "1        149190     55629189        Caucasian  Female  [10-20)      ?   \n",
       "2         64410     86047875  AfricanAmerican  Female  [20-30)      ?   \n",
       "3        500364     82442376        Caucasian    Male  [30-40)      ?   \n",
       "4         16680     42519267        Caucasian    Male  [40-50)      ?   \n",
       "\n",
       "   admission_type_id  discharge_disposition_id  admission_source_id  \\\n",
       "0                  6                        25                    1   \n",
       "1                  1                         1                    7   \n",
       "2                  1                         1                    7   \n",
       "3                  1                         1                    7   \n",
       "4                  1                         1                    7   \n",
       "\n",
       "   time_in_hospital  ... citoglipton insulin  glyburide-metformin  \\\n",
       "0                 1  ...          No      No                   No   \n",
       "1                 3  ...          No      Up                   No   \n",
       "2                 2  ...          No      No                   No   \n",
       "3                 2  ...          No      Up                   No   \n",
       "4                 1  ...          No  Steady                   No   \n",
       "\n",
       "   glipizide-metformin  glimepiride-pioglitazone  metformin-rosiglitazone  \\\n",
       "0                   No                        No                       No   \n",
       "1                   No                        No                       No   \n",
       "2                   No                        No                       No   \n",
       "3                   No                        No                       No   \n",
       "4                   No                        No                       No   \n",
       "\n",
       "   metformin-pioglitazone  change diabetesMed readmitted  \n",
       "0                      No      No          No         NO  \n",
       "1                      No      Ch         Yes        >30  \n",
       "2                      No      No         Yes         NO  \n",
       "3                      No      Ch         Yes         NO  \n",
       "4                      No      Ch         Yes         NO  \n",
       "\n",
       "[5 rows x 50 columns]"
      ]
     },
     "execution_count": 87,
     "metadata": {},
     "output_type": "execute_result"
    }
   ],
   "source": [
    "data_loaded = pd.read_csv(os.path.join(DATA_PATH, \"diabetic_data.csv\"))\n",
    "data_loaded.head()"
   ]
  },
  {
   "cell_type": "markdown",
   "id": "867afead",
   "metadata": {},
   "source": [
    "# Pre-process data"
   ]
  },
  {
   "cell_type": "code",
   "execution_count": 122,
   "id": "db81f301",
   "metadata": {},
   "outputs": [
    {
     "name": "stdout",
     "output_type": "stream",
     "text": [
      "There are 71515 unique patients in the data\n"
     ]
    },
    {
     "data": {
      "image/png": "[encoded data removed]",
      "text/plain": [
       "<Figure size 300x200 with 1 Axes>"
      ]
     },
     "metadata": {},
     "output_type": "display_data"
    }
   ],
   "source": [
    "\n",
    "data_preprocessed = preprocess_data(data_loaded)\n",
    "\n",
    "data_preprocessed.drop(['encounter_id','patient_nbr'],axis=1,inplace=True)\n"
   ]
  },
  {
   "cell_type": "markdown",
   "id": "1ccec97d",
   "metadata": {},
   "source": [
    "# Getting Dependent and independent variables from data"
   ]
  },
  {
   "cell_type": "code",
   "execution_count": 123,
   "id": "74af21f8",
   "metadata": {},
   "outputs": [],
   "source": [
    "X = data_preprocessed.drop('readmitted',axis=1)\n",
    "\n",
    "y = data_preprocessed['readmitted']\n"
   ]
  },
  {
   "cell_type": "markdown",
   "id": "f4ab5306",
   "metadata": {},
   "source": [
    "# Splitting data into train and test"
   ]
  },
  {
   "cell_type": "code",
   "execution_count": 124,
   "id": "cc8dce54",
   "metadata": {},
   "outputs": [],
   "source": [
    "X_train, X_test, y_train, y_test = train_test_split(X, y, test_size=0.1, random_state=42)\n",
    "\n"
   ]
  },
  {
   "cell_type": "markdown",
   "id": "69296d16",
   "metadata": {},
   "source": [
    "# Data normalization"
   ]
  },
  {
   "cell_type": "code",
   "execution_count": 125,
   "id": "c97f2b62",
   "metadata": {},
   "outputs": [
    {
     "name": "stdout",
     "output_type": "stream",
     "text": [
      "There are 91586 training data \n",
      "There are 10177 testing data \n"
     ]
    }
   ],
   "source": [
    "SC = StandardScaler()\n",
    "X_train_scaled = pd.DataFrame(SC.fit_transform(X_train),columns=X_train.columns)\n",
    "X_test_scaled = pd.DataFrame(SC.transform(X_test),columns=X_test.columns)\n",
    "\n",
    "print(\"There are {} training data \".format(X_train.shape[0]))\n",
    "print(\"There are {} testing data \".format(X_test.shape[0]))\n"
   ]
  },
  {
   "cell_type": "markdown",
   "id": "b618f01e",
   "metadata": {},
   "source": [
    "# Train Logistic classifier"
   ]
  },
  {
   "cell_type": "code",
   "execution_count": 139,
   "id": "11df1839",
   "metadata": {},
   "outputs": [
    {
     "name": "stdout",
     "output_type": "stream",
     "text": [
      "CPU times: user 746 ms, sys: 453 ms, total: 1.2 s\n",
      "Wall time: 217 ms\n"
     ]
    },
    {
     "data": {
      "text/html": [
       "<style>#sk-container-id-4 {color: black;background-color: white;}#sk-container-id-4 pre{padding: 0;}#sk-container-id-4 div.sk-toggleable {background-color: white;}#sk-container-id-4 label.sk-toggleable__label {cursor: pointer;display: block;width: 100%;margin-bottom: 0;padding: 0.3em;box-sizing: border-box;text-align: center;}#sk-container-id-4 label.sk-toggleable__label-arrow:before {content: \"▸\";float: left;margin-right: 0.25em;color: #696969;}#sk-container-id-4 label.sk-toggleable__label-arrow:hover:before {color: black;}#sk-container-id-4 div.sk-estimator:hover label.sk-toggleable__label-arrow:before {color: black;}#sk-container-id-4 div.sk-toggleable__content {max-height: 0;max-width: 0;overflow: hidden;text-align: left;background-color: #f0f8ff;}#sk-container-id-4 div.sk-toggleable__content pre {margin: 0.2em;color: black;border-radius: 0.25em;background-color: #f0f8ff;}#sk-container-id-4 input.sk-toggleable__control:checked~div.sk-toggleable__content {max-height: 200px;max-width: 100%;overflow: auto;}#sk-container-id-4 input.sk-toggleable__control:checked~label.sk-toggleable__label-arrow:before {content: \"▾\";}#sk-container-id-4 div.sk-estimator input.sk-toggleable__control:checked~label.sk-toggleable__label {background-color: #d4ebff;}#sk-container-id-4 div.sk-label input.sk-toggleable__control:checked~label.sk-toggleable__label {background-color: #d4ebff;}#sk-container-id-4 input.sk-hidden--visually {border: 0;clip: rect(1px 1px 1px 1px);clip: rect(1px, 1px, 1px, 1px);height: 1px;margin: -1px;overflow: hidden;padding: 0;position: absolute;width: 1px;}#sk-container-id-4 div.sk-estimator {font-family: monospace;background-color: #f0f8ff;border: 1px dotted black;border-radius: 0.25em;box-sizing: border-box;margin-bottom: 0.5em;}#sk-container-id-4 div.sk-estimator:hover {background-color: #d4ebff;}#sk-container-id-4 div.sk-parallel-item::after {content: \"\";width: 100%;border-bottom: 1px solid gray;flex-grow: 1;}#sk-container-id-4 div.sk-label:hover label.sk-toggleable__label {background-color: #d4ebff;}#sk-container-id-4 div.sk-serial::before {content: \"\";position: absolute;border-left: 1px solid gray;box-sizing: border-box;top: 0;bottom: 0;left: 50%;z-index: 0;}#sk-container-id-4 div.sk-serial {display: flex;flex-direction: column;align-items: center;background-color: white;padding-right: 0.2em;padding-left: 0.2em;position: relative;}#sk-container-id-4 div.sk-item {position: relative;z-index: 1;}#sk-container-id-4 div.sk-parallel {display: flex;align-items: stretch;justify-content: center;background-color: white;position: relative;}#sk-container-id-4 div.sk-item::before, #sk-container-id-4 div.sk-parallel-item::before {content: \"\";position: absolute;border-left: 1px solid gray;box-sizing: border-box;top: 0;bottom: 0;left: 50%;z-index: -1;}#sk-container-id-4 div.sk-parallel-item {display: flex;flex-direction: column;z-index: 1;position: relative;background-color: white;}#sk-container-id-4 div.sk-parallel-item:first-child::after {align-self: flex-end;width: 50%;}#sk-container-id-4 div.sk-parallel-item:last-child::after {align-self: flex-start;width: 50%;}#sk-container-id-4 div.sk-parallel-item:only-child::after {width: 0;}#sk-container-id-4 div.sk-dashed-wrapped {border: 1px dashed gray;margin: 0 0.4em 0.5em 0.4em;box-sizing: border-box;padding-bottom: 0.4em;background-color: white;}#sk-container-id-4 div.sk-label label {font-family: monospace;font-weight: bold;display: inline-block;line-height: 1.2em;}#sk-container-id-4 div.sk-label-container {text-align: center;}#sk-container-id-4 div.sk-container {/* jupyter's `normalize.less` sets `[hidden] { display: none; }` but bootstrap.min.css set `[hidden] { display: none !important; }` so we also need the `!important` here to be able to override the default hidden behavior on the sphinx rendered scikit-learn.org. See: https://github.com/scikit-learn/scikit-learn/issues/21755 */display: inline-block !important;position: relative;}#sk-container-id-4 div.sk-text-repr-fallback {display: none;}</style><div id=\"sk-container-id-4\" class=\"sk-top-container\"><div class=\"sk-text-repr-fallback\"><pre>LogisticRegression()</pre><b>In a Jupyter environment, please rerun this cell to show the HTML representation or trust the notebook. <br />On GitHub, the HTML representation is unable to render, please try loading this page with nbviewer.org.</b></div><div class=\"sk-container\" hidden><div class=\"sk-item\"><div class=\"sk-estimator sk-toggleable\"><input class=\"sk-toggleable__control sk-hidden--visually\" id=\"sk-estimator-id-4\" type=\"checkbox\" checked><label for=\"sk-estimator-id-4\" class=\"sk-toggleable__label sk-toggleable__label-arrow\">LogisticRegression</label><div class=\"sk-toggleable__content\"><pre>LogisticRegression()</pre></div></div></div></div></div>"
      ],
      "text/plain": [
       "LogisticRegression()"
      ]
     },
     "execution_count": 139,
     "metadata": {},
     "output_type": "execute_result"
    }
   ],
   "source": [
    "%%time\n",
    "\n",
    "train_sample_wt = compute_sample_weight(class_weight='balanced', y=y_train)\n",
    "LR = LogisticRegression()\n",
    "LR.fit(X_train_scaled, y_train, sample_weight=train_sample_wt)\n"
   ]
  },
  {
   "cell_type": "markdown",
   "id": "63f8c7ad",
   "metadata": {},
   "source": [
    "# Evaluate Logisitic classifier"
   ]
  },
  {
   "cell_type": "code",
   "execution_count": 161,
   "id": "9f2e43c7",
   "metadata": {},
   "outputs": [
    {
     "name": "stdout",
     "output_type": "stream",
     "text": [
      "AUC score =  0.6664382226948903\n"
     ]
    },
    {
     "data": {
      "image/png": "[encoded data removed]",
      "text/plain": [
       "<Figure size 200x200 with 1 Axes>"
      ]
     },
     "metadata": {},
     "output_type": "display_data"
    }
   ],
   "source": [
    "y_pred_prob = LR.predict_proba(X_test_scaled)\n",
    "auc = roc_auc_score(y_test, y_pred_prob[:,1])\n",
    "print(\"AUC score = \", auc)\n",
    "\n",
    "fpr, tpr, thresholds = roc_curve(y_test, y_pred_prob[:,1])\n",
    "\n",
    "plt.figure(figsize=(2,2))\n",
    "plt.plot(fpr, tpr)\n",
    "\n",
    "plt.xlim([0.0, 1.0])\n",
    "plt.ylim([0.0, 1.0])\n",
    "plt.plot([0, 1], [0, 1],'r--')\n",
    "plt.title('ROC curve for prediction', fontsize = 10)\n",
    "plt.xlabel('False positive rate', fontsize = 8)\n",
    "plt.ylabel('True positive rate', fontsize = 8)\n",
    "plt.show()\n"
   ]
  },
  {
   "cell_type": "markdown",
   "id": "7c4d7bed",
   "metadata": {},
   "source": [
    "# Train Random Forest classifier"
   ]
  },
  {
   "cell_type": "code",
   "execution_count": 180,
   "id": "edbf370f",
   "metadata": {},
   "outputs": [
    {
     "name": "stderr",
     "output_type": "stream",
     "text": [
      "[Parallel(n_jobs=2)]: Using backend ThreadingBackend with 2 concurrent workers.\n",
      "[Parallel(n_jobs=2)]: Done  46 tasks      | elapsed:    0.5s\n",
      "[Parallel(n_jobs=2)]: Done  50 out of  50 | elapsed:    0.5s finished\n"
     ]
    },
    {
     "data": {
      "text/html": [
       "<style>#sk-container-id-14 {color: black;background-color: white;}#sk-container-id-14 pre{padding: 0;}#sk-container-id-14 div.sk-toggleable {background-color: white;}#sk-container-id-14 label.sk-toggleable__label {cursor: pointer;display: block;width: 100%;margin-bottom: 0;padding: 0.3em;box-sizing: border-box;text-align: center;}#sk-container-id-14 label.sk-toggleable__label-arrow:before {content: \"▸\";float: left;margin-right: 0.25em;color: #696969;}#sk-container-id-14 label.sk-toggleable__label-arrow:hover:before {color: black;}#sk-container-id-14 div.sk-estimator:hover label.sk-toggleable__label-arrow:before {color: black;}#sk-container-id-14 div.sk-toggleable__content {max-height: 0;max-width: 0;overflow: hidden;text-align: left;background-color: #f0f8ff;}#sk-container-id-14 div.sk-toggleable__content pre {margin: 0.2em;color: black;border-radius: 0.25em;background-color: #f0f8ff;}#sk-container-id-14 input.sk-toggleable__control:checked~div.sk-toggleable__content {max-height: 200px;max-width: 100%;overflow: auto;}#sk-container-id-14 input.sk-toggleable__control:checked~label.sk-toggleable__label-arrow:before {content: \"▾\";}#sk-container-id-14 div.sk-estimator input.sk-toggleable__control:checked~label.sk-toggleable__label {background-color: #d4ebff;}#sk-container-id-14 div.sk-label input.sk-toggleable__control:checked~label.sk-toggleable__label {background-color: #d4ebff;}#sk-container-id-14 input.sk-hidden--visually {border: 0;clip: rect(1px 1px 1px 1px);clip: rect(1px, 1px, 1px, 1px);height: 1px;margin: -1px;overflow: hidden;padding: 0;position: absolute;width: 1px;}#sk-container-id-14 div.sk-estimator {font-family: monospace;background-color: #f0f8ff;border: 1px dotted black;border-radius: 0.25em;box-sizing: border-box;margin-bottom: 0.5em;}#sk-container-id-14 div.sk-estimator:hover {background-color: #d4ebff;}#sk-container-id-14 div.sk-parallel-item::after {content: \"\";width: 100%;border-bottom: 1px solid gray;flex-grow: 1;}#sk-container-id-14 div.sk-label:hover label.sk-toggleable__label {background-color: #d4ebff;}#sk-container-id-14 div.sk-serial::before {content: \"\";position: absolute;border-left: 1px solid gray;box-sizing: border-box;top: 0;bottom: 0;left: 50%;z-index: 0;}#sk-container-id-14 div.sk-serial {display: flex;flex-direction: column;align-items: center;background-color: white;padding-right: 0.2em;padding-left: 0.2em;position: relative;}#sk-container-id-14 div.sk-item {position: relative;z-index: 1;}#sk-container-id-14 div.sk-parallel {display: flex;align-items: stretch;justify-content: center;background-color: white;position: relative;}#sk-container-id-14 div.sk-item::before, #sk-container-id-14 div.sk-parallel-item::before {content: \"\";position: absolute;border-left: 1px solid gray;box-sizing: border-box;top: 0;bottom: 0;left: 50%;z-index: -1;}#sk-container-id-14 div.sk-parallel-item {display: flex;flex-direction: column;z-index: 1;position: relative;background-color: white;}#sk-container-id-14 div.sk-parallel-item:first-child::after {align-self: flex-end;width: 50%;}#sk-container-id-14 div.sk-parallel-item:last-child::after {align-self: flex-start;width: 50%;}#sk-container-id-14 div.sk-parallel-item:only-child::after {width: 0;}#sk-container-id-14 div.sk-dashed-wrapped {border: 1px dashed gray;margin: 0 0.4em 0.5em 0.4em;box-sizing: border-box;padding-bottom: 0.4em;background-color: white;}#sk-container-id-14 div.sk-label label {font-family: monospace;font-weight: bold;display: inline-block;line-height: 1.2em;}#sk-container-id-14 div.sk-label-container {text-align: center;}#sk-container-id-14 div.sk-container {/* jupyter's `normalize.less` sets `[hidden] { display: none; }` but bootstrap.min.css set `[hidden] { display: none !important; }` so we also need the `!important` here to be able to override the default hidden behavior on the sphinx rendered scikit-learn.org. See: https://github.com/scikit-learn/scikit-learn/issues/21755 */display: inline-block !important;position: relative;}#sk-container-id-14 div.sk-text-repr-fallback {display: none;}</style><div id=\"sk-container-id-14\" class=\"sk-top-container\"><div class=\"sk-text-repr-fallback\"><pre>RandomForestClassifier(max_depth=5, n_estimators=50, n_jobs=2, verbose=1)</pre><b>In a Jupyter environment, please rerun this cell to show the HTML representation or trust the notebook. <br />On GitHub, the HTML representation is unable to render, please try loading this page with nbviewer.org.</b></div><div class=\"sk-container\" hidden><div class=\"sk-item\"><div class=\"sk-estimator sk-toggleable\"><input class=\"sk-toggleable__control sk-hidden--visually\" id=\"sk-estimator-id-14\" type=\"checkbox\" checked><label for=\"sk-estimator-id-14\" class=\"sk-toggleable__label sk-toggleable__label-arrow\">RandomForestClassifier</label><div class=\"sk-toggleable__content\"><pre>RandomForestClassifier(max_depth=5, n_estimators=50, n_jobs=2, verbose=1)</pre></div></div></div></div></div>"
      ],
      "text/plain": [
       "RandomForestClassifier(max_depth=5, n_estimators=50, n_jobs=2, verbose=1)"
      ]
     },
     "execution_count": 180,
     "metadata": {},
     "output_type": "execute_result"
    }
   ],
   "source": [
    "train_sample_wt = compute_sample_weight(class_weight='balanced', y=y_train)\n",
    "\n",
    "RF = RandomForestClassifier(n_estimators=50, \n",
    "                            max_depth=5, \n",
    "                            n_jobs=2, \n",
    "                            bootstrap=True, \n",
    "                            max_features='sqrt', \n",
    "                            verbose=1)\n",
    "RF.fit(X_train_scaled, y_train, sample_weight=train_sample_wt)\n"
   ]
  },
  {
   "cell_type": "markdown",
   "id": "49f6d640",
   "metadata": {},
   "source": [
    "# Evaluate Random Forest classifier"
   ]
  },
  {
   "cell_type": "code",
   "execution_count": 181,
   "id": "f9222f88",
   "metadata": {},
   "outputs": [
    {
     "name": "stdout",
     "output_type": "stream",
     "text": [
      "AUC score =  0.6654519470129145\n"
     ]
    },
    {
     "name": "stderr",
     "output_type": "stream",
     "text": [
      "[Parallel(n_jobs=2)]: Using backend ThreadingBackend with 2 concurrent workers.\n",
      "[Parallel(n_jobs=2)]: Done  46 tasks      | elapsed:    0.0s\n",
      "[Parallel(n_jobs=2)]: Done  50 out of  50 | elapsed:    0.0s finished\n"
     ]
    },
    {
     "data": {
      "image/png": "[encoded data removed]",
      "text/plain": [
       "<Figure size 200x200 with 1 Axes>"
      ]
     },
     "metadata": {},
     "output_type": "display_data"
    }
   ],
   "source": [
    "y_pred_prob = RF.predict_proba(X_test_scaled)\n",
    "auc = roc_auc_score(y_test, y_pred_prob[:,1])\n",
    "print(\"AUC score = \", auc)\n",
    "\n",
    "fpr, tpr, thresholds = roc_curve(y_test, y_pred_prob[:,1])\n",
    "\n",
    "plt.figure(figsize=(2,2))\n",
    "plt.plot(fpr, tpr)\n",
    "\n",
    "plt.xlim([0.0, 1.0])\n",
    "plt.ylim([0.0, 1.0])\n",
    "plt.plot([0, 1], [0, 1],'r--')\n",
    "plt.title('ROC curve for prediction', fontsize = 10)\n",
    "plt.xlabel('False positive rate', fontsize = 8)\n",
    "plt.ylabel('True positive rate', fontsize = 8)\n",
    "plt.show()\n"
   ]
  },
  {
   "cell_type": "code",
   "execution_count": null,
   "id": "ee488abb",
   "metadata": {},
   "outputs": [],
   "source": []
  }
 ],
 "metadata": {
  "kernelspec": {
   "display_name": "Python 3 (ipykernel)",
   "language": "python",
   "name": "python3"
  },
  "language_info": {
   "codemirror_mode": {
    "name": "ipython",
    "version": 3
   },
   "file_extension": ".py",
   "mimetype": "text/x-python",
   "name": "python",
   "nbconvert_exporter": "python",
   "pygments_lexer": "ipython3",
   "version": "3.10.9"
  }
 },
 "nbformat": 4,
 "nbformat_minor": 5
}
