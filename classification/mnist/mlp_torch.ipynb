{
  "nbformat": 4,
  "nbformat_minor": 0,
  "metadata": {
    "colab": {
      "provenance": [],
      "gpuType": "T4"
    },
    "kernelspec": {
      "name": "python3",
      "display_name": "Python 3"
    },
    "language_info": {
      "name": "python"
    },
    "accelerator": "GPU"
  },
  "cells": [
    {
      "cell_type": "code",
      "execution_count": 77,
      "metadata": {
        "id": "vwCcuegi2vi7"
      },
      "outputs": [],
      "source": [
        "import torch\n",
        "from torch import nn\n",
        "from torch.utils.data import TensorDataset, DataLoader\n",
        "\n",
        "from sklearn.datasets import fetch_openml\n",
        "from sklearn.model_selection import train_test_split\n",
        "from sklearn.preprocessing import OneHotEncoder\n",
        "\n",
        "import numpy as np\n",
        "import matplotlib.pyplot as plt\n"
      ]
    },
    {
      "cell_type": "code",
      "source": [
        "device = torch.device('cuda' if torch.cuda.is_available() else 'cpu')\n",
        "print(device)\n"
      ],
      "metadata": {
        "colab": {
          "base_uri": "https://localhost:8080/"
        },
        "id": "hwmMh5M3STBO",
        "outputId": "c9cc855a-ef21-4d3b-c9c4-5e4e310b7967"
      },
      "execution_count": 2,
      "outputs": [
        {
          "output_type": "stream",
          "name": "stdout",
          "text": [
            "cuda\n"
          ]
        }
      ]
    },
    {
      "cell_type": "code",
      "source": [
        "X, y = fetch_openml(\n",
        "    \"mnist_784\", version=1, return_X_y=True, as_frame=False, parser=\"pandas\"\n",
        ")\n",
        "\n",
        "X = np.divide(X, 255)"
      ],
      "metadata": {
        "id": "fXbfl71728Ex"
      },
      "execution_count": 16,
      "outputs": []
    },
    {
      "cell_type": "code",
      "source": [
        "class MLP(nn.Module):\n",
        "  def __init__(self, input_size, hidden_layer_size, output_size):\n",
        "    super(MLP, self).__init__()\n",
        "    self.fc1 = nn.Linear(input_size, hidden_layer_size)\n",
        "    self.fc2 = nn.Linear(hidden_layer_size, output_size)\n",
        "\n",
        "  def forward(self, x):\n",
        "    x = self.fc1(x)\n",
        "    x = nn.functional.relu(x)\n",
        "    x = self.fc2(x)\n",
        "    x = nn.functional.softmax(x)\n",
        "    return x\n",
        "\n",
        "\n"
      ],
      "metadata": {
        "id": "vcNYnTUe5j_i"
      },
      "execution_count": 17,
      "outputs": []
    },
    {
      "cell_type": "code",
      "source": [
        "nepoch = 100\n",
        "batch_size = 256\n",
        "\n",
        "X_train, X_test, y_train, y_test = train_test_split(X, y, test_size=0.2, random_state=42)\n",
        "\n",
        "input_size = X_train.shape[-1]\n",
        "hidden_layer_size = 100\n",
        "output_size = np.unique(y_train).shape[0]\n",
        "\n",
        "encoder = OneHotEncoder()\n",
        "y_train = encoder.fit_transform(y_train.reshape(-1, 1)).toarray()\n",
        "y_test = encoder.transform(y_test.reshape(-1, 1)).toarray()\n",
        "\n",
        "train_data = TensorDataset(torch.Tensor(X_train).to(device), torch.Tensor(y_train).to(device))\n",
        "train_loader = DataLoader(train_data, batch_size=batch_size, shuffle=True)\n",
        "\n",
        "\n"
      ],
      "metadata": {
        "id": "btcSMEyyPYwf"
      },
      "execution_count": 83,
      "outputs": []
    },
    {
      "cell_type": "code",
      "source": [
        "mlp = MLP(input_size, hidden_layer_size, output_size)\n",
        "mlp.to(device)\n"
      ],
      "metadata": {
        "colab": {
          "base_uri": "https://localhost:8080/"
        },
        "id": "CX8qapXC5tP8",
        "outputId": "e380f9f6-efba-4dc3-d3a2-148f50624190"
      },
      "execution_count": 32,
      "outputs": [
        {
          "output_type": "execute_result",
          "data": {
            "text/plain": [
              "MLP(\n",
              "  (fc1): Linear(in_features=784, out_features=100, bias=True)\n",
              "  (fc2): Linear(in_features=100, out_features=10, bias=True)\n",
              ")"
            ]
          },
          "metadata": {},
          "execution_count": 32
        }
      ]
    },
    {
      "cell_type": "code",
      "source": [
        "loss_fn = nn.CrossEntropyLoss()\n",
        "optimizer = torch.optim.Adam(mlp.parameters(), lr=0.01)\n"
      ],
      "metadata": {
        "id": "BQ4Hy4Ue5usp"
      },
      "execution_count": 33,
      "outputs": []
    },
    {
      "cell_type": "code",
      "source": [
        "loss_history = []\n",
        "for i in range(nepoch):\n",
        "  loss_epoch_history = []\n",
        "  for x_batch, y_batch in train_loader:\n",
        "    optimizer.zero_grad()\n",
        "    y_pred = mlp(x_batch)\n",
        "    loss = loss_fn(y_pred, y_batch)\n",
        "    loss_epoch_history.append(loss.item())\n",
        "    loss.backward()\n",
        "    optimizer.step()\n",
        "  print('Epoch : {}  Loss : {}'.format(i, np.mean(loss_epoch_history)))\n",
        "  loss_history.append(np.mean(loss_epoch_history))\n"
      ],
      "metadata": {
        "colab": {
          "base_uri": "https://localhost:8080/"
        },
        "id": "gIbiD2Kj6GkK",
        "outputId": "27e35737-ad7b-4bd3-8ecd-130352575da7"
      },
      "execution_count": 34,
      "outputs": [
        {
          "output_type": "stream",
          "name": "stderr",
          "text": [
            "<ipython-input-17-89502747e2b4>:11: UserWarning: Implicit dimension choice for softmax has been deprecated. Change the call to include dim=X as an argument.\n",
            "  x = nn.functional.softmax(x)\n"
          ]
        },
        {
          "output_type": "stream",
          "name": "stdout",
          "text": [
            "Epoch : 0  Loss : 1.5737618235148252\n",
            "Epoch : 1  Loss : 1.5158361000557468\n",
            "Epoch : 2  Loss : 1.5025232393447667\n",
            "Epoch : 3  Loss : 1.4971138140926623\n",
            "Epoch : 4  Loss : 1.4933960557528283\n",
            "Epoch : 5  Loss : 1.4904872843119652\n",
            "Epoch : 6  Loss : 1.4893919452684654\n",
            "Epoch : 7  Loss : 1.4869990969357425\n",
            "Epoch : 8  Loss : 1.4860052861035142\n",
            "Epoch : 9  Loss : 1.4852718016872668\n",
            "Epoch : 10  Loss : 1.4845810323001043\n",
            "Epoch : 11  Loss : 1.4839182749186477\n",
            "Epoch : 12  Loss : 1.485764645550349\n",
            "Epoch : 13  Loss : 1.4837594130267835\n",
            "Epoch : 14  Loss : 1.4819491671644933\n",
            "Epoch : 15  Loss : 1.482801501609419\n",
            "Epoch : 16  Loss : 1.481742611758785\n",
            "Epoch : 17  Loss : 1.48176139021573\n",
            "Epoch : 18  Loss : 1.481726505440664\n",
            "Epoch : 19  Loss : 1.4808000821501153\n",
            "Epoch : 20  Loss : 1.4810359717504074\n",
            "Epoch : 21  Loss : 1.4829489041681159\n",
            "Epoch : 22  Loss : 1.4804903459331216\n",
            "Epoch : 23  Loss : 1.4810104898121803\n",
            "Epoch : 24  Loss : 1.479757721021295\n",
            "Epoch : 25  Loss : 1.479187403639702\n",
            "Epoch : 26  Loss : 1.4811855995491758\n",
            "Epoch : 27  Loss : 1.4789651414575098\n",
            "Epoch : 28  Loss : 1.4792315159758476\n",
            "Epoch : 29  Loss : 1.48075558986838\n",
            "Epoch : 30  Loss : 1.4797401156055328\n",
            "Epoch : 31  Loss : 1.4798699633715904\n",
            "Epoch : 32  Loss : 1.4805037866444348\n",
            "Epoch : 33  Loss : 1.4788158903383228\n",
            "Epoch : 34  Loss : 1.4783546336709636\n",
            "Epoch : 35  Loss : 1.4776531027876623\n",
            "Epoch : 36  Loss : 1.4774872238777543\n",
            "Epoch : 37  Loss : 1.478517816491323\n",
            "Epoch : 38  Loss : 1.4784403696452102\n",
            "Epoch : 39  Loss : 1.4783002470181956\n",
            "Epoch : 40  Loss : 1.4808050546471931\n",
            "Epoch : 41  Loss : 1.480262094436715\n",
            "Epoch : 42  Loss : 1.4797580160506785\n",
            "Epoch : 43  Loss : 1.4795102637652393\n",
            "Epoch : 44  Loss : 1.4787759427066263\n",
            "Epoch : 45  Loss : 1.4784633862917826\n",
            "Epoch : 46  Loss : 1.4793399136904712\n",
            "Epoch : 47  Loss : 1.4794287436628994\n",
            "Epoch : 48  Loss : 1.4777374588735572\n",
            "Epoch : 49  Loss : 1.477447870115167\n",
            "Epoch : 50  Loss : 1.476950342796709\n",
            "Epoch : 51  Loss : 1.4780724244574979\n",
            "Epoch : 52  Loss : 1.4780191526021043\n",
            "Epoch : 53  Loss : 1.4776857231305613\n",
            "Epoch : 54  Loss : 1.4763027086649856\n",
            "Epoch : 55  Loss : 1.4777953336227974\n",
            "Epoch : 56  Loss : 1.4760573307673137\n",
            "Epoch : 57  Loss : 1.4769041614445377\n",
            "Epoch : 58  Loss : 1.4774331409637242\n",
            "Epoch : 59  Loss : 1.477202187390088\n",
            "Epoch : 60  Loss : 1.4779399219713254\n",
            "Epoch : 61  Loss : 1.477207011283805\n",
            "Epoch : 62  Loss : 1.477602830760555\n",
            "Epoch : 63  Loss : 1.4789748845035082\n",
            "Epoch : 64  Loss : 1.4757879863590955\n",
            "Epoch : 65  Loss : 1.4759473452285\n",
            "Epoch : 66  Loss : 1.4764912095788407\n",
            "Epoch : 67  Loss : 1.476988156636556\n",
            "Epoch : 68  Loss : 1.4773859275530463\n",
            "Epoch : 69  Loss : 1.477189062392875\n",
            "Epoch : 70  Loss : 1.4772623385468575\n",
            "Epoch : 71  Loss : 1.476795397392691\n",
            "Epoch : 72  Loss : 1.4775282748757976\n",
            "Epoch : 73  Loss : 1.4743202712437877\n",
            "Epoch : 74  Loss : 1.47577799346349\n",
            "Epoch : 75  Loss : 1.478423672723988\n",
            "Epoch : 76  Loss : 1.4767275237601643\n",
            "Epoch : 77  Loss : 1.4769537198489116\n",
            "Epoch : 78  Loss : 1.476919564482284\n",
            "Epoch : 79  Loss : 1.475671614141769\n",
            "Epoch : 80  Loss : 1.4757852532547904\n",
            "Epoch : 81  Loss : 1.4765364013306082\n",
            "Epoch : 82  Loss : 1.4747768139730306\n",
            "Epoch : 83  Loss : 1.4762634240328993\n",
            "Epoch : 84  Loss : 1.475663246629445\n",
            "Epoch : 85  Loss : 1.4773134825980827\n",
            "Epoch : 86  Loss : 1.4779783993551177\n",
            "Epoch : 87  Loss : 1.4772308955998181\n",
            "Epoch : 88  Loss : 1.4752245678749258\n",
            "Epoch : 89  Loss : 1.4744075667368222\n",
            "Epoch : 90  Loss : 1.4756001174177753\n",
            "Epoch : 91  Loss : 1.4761797897347577\n",
            "Epoch : 92  Loss : 1.4756229729412897\n",
            "Epoch : 93  Loss : 1.4774702400921687\n",
            "Epoch : 94  Loss : 1.4759248310028146\n",
            "Epoch : 95  Loss : 1.4756150675690882\n",
            "Epoch : 96  Loss : 1.4775583025527328\n",
            "Epoch : 97  Loss : 1.4771623709430433\n",
            "Epoch : 98  Loss : 1.4766756045763896\n",
            "Epoch : 99  Loss : 1.476647396065873\n"
          ]
        }
      ]
    },
    {
      "cell_type": "code",
      "source": [
        "plt.figure(figsize=(5,3))\n",
        "plt.plot(loss_history, color='blue')\n",
        "plt.xlabel('Epoch')\n",
        "plt.ylabel('Loss')\n",
        "plt.title('Loss History')\n",
        "plt.show()\n"
      ],
      "metadata": {
        "colab": {
          "base_uri": "https://localhost:8080/",
          "height": 333
        },
        "id": "_OIgL124BhcK",
        "outputId": "3394ada3-b9b1-4f67-e6ec-8d1092703f5f"
      },
      "execution_count": 36,
      "outputs": [
        {
          "output_type": "display_data",
          "data": {
            "text/plain": [
              "<Figure size 500x300 with 1 Axes>"
            ],
            "image/png": "[encoded data removed]"
          },
          "metadata": {}
        }
      ]
    },
    {
      "cell_type": "code",
      "source": [
        "\n",
        "def evaluate_model(model, data_loader):\n",
        "  model.eval()\n",
        "  correct_predictions = 0\n",
        "  total_predictions = 0\n",
        "  for x_batch, y_batch in data_loader:\n",
        "    y_pred = model(x_batch)\n",
        "    correct_predictions += (torch.argmax(y_pred, dim=1) == torch.argmax(y_batch, dim=1)).sum()\n",
        "    total_predictions += y_batch.shape[0]\n",
        "  return correct_predictions / total_predictions\n",
        "\n",
        "test_data = TensorDataset(torch.Tensor(X_test).to(device), torch.Tensor(y_test).to(device))\n",
        "test_loader = DataLoader(test_data, batch_size=batch_size, shuffle=False)\n",
        "print('Test accuracy: {}'.format(evaluate_model(mlp, test_loader)))\n"
      ],
      "metadata": {
        "colab": {
          "base_uri": "https://localhost:8080/"
        },
        "id": "cGBBnRwaxm5S",
        "outputId": "964f49da-0bd7-4285-a690-c7e1b22329fe"
      },
      "execution_count": 98,
      "outputs": [
        {
          "output_type": "stream",
          "name": "stderr",
          "text": [
            "<ipython-input-17-89502747e2b4>:11: UserWarning: Implicit dimension choice for softmax has been deprecated. Change the call to include dim=X as an argument.\n",
            "  x = nn.functional.softmax(x)\n"
          ]
        },
        {
          "output_type": "stream",
          "name": "stdout",
          "text": [
            "Test accuracy: 0.9673571586608887\n"
          ]
        }
      ]
    },
    {
      "cell_type": "code",
      "source": [],
      "metadata": {
        "id": "AI6d1l2_zvBO"
      },
      "execution_count": null,
      "outputs": []
    }
  ]
}