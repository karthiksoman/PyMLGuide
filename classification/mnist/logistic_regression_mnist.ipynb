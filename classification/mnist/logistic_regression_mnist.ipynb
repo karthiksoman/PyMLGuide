{
  "nbformat": 4,
  "nbformat_minor": 0,
  "metadata": {
    "colab": {
      "name": "logistic_regression_mnist.ipynb",
      "provenance": [],
      "collapsed_sections": []
    },
    "kernelspec": {
      "name": "python3",
      "display_name": "Python 3"
    },
    "accelerator": "GPU"
  },
  "cells": [
    {
      "cell_type": "code",
      "metadata": {
        "id": "snRd-MSgN-sN"
      },
      "source": [
        "import tensorflow as tf\r\n",
        "import numpy as np\r\n",
        "import pandas as pd\r\n",
        "from math import ceil\r\n",
        "import time\r\n",
        "import matplotlib.pyplot as plt\r\n",
        "import seaborn as sns\r\n",
        "tf.compat.v1.disable_eager_execution()"
      ],
      "execution_count": null,
      "outputs": []
    },
    {
      "cell_type": "markdown",
      "metadata": {
        "id": "kPqyhtGYOG6P"
      },
      "source": [
        "###Set hyper parameters"
      ]
    },
    {
      "cell_type": "code",
      "metadata": {
        "id": "C6WQN9EjOEiy"
      },
      "source": [
        "n_classes = 10\r\n",
        "n_batch = 128\r\n",
        "n_epoch = 15\r\n",
        "regularizer_rate = 0.005\r\n",
        "learning_rate = 0.001"
      ],
      "execution_count": null,
      "outputs": []
    },
    {
      "cell_type": "markdown",
      "metadata": {
        "id": "d1sN7rTaOOde"
      },
      "source": [
        "###Load data\r\n",
        "####Following funtion loads MNIST dataset hosted in Yann LeCun website \"http://yann.lecun.com/exdb/mnist/\" "
      ]
    },
    {
      "cell_type": "code",
      "metadata": {
        "colab": {
          "base_uri": "https://localhost:8080/",
          "height": 340
        },
        "id": "Dn11WWbJOP3_",
        "outputId": "d966d078-13f5-43a1-d5d2-1e3c3a251b0f"
      },
      "source": [
        "print('Loading MNIST dataset')\r\n",
        "(x_train, y_train), (x_test, y_test) = tf.keras.datasets.mnist.load_data()\r\n",
        "x_train = x_train/255\r\n",
        "x_test = x_test/255\r\n",
        "print('Data is successfully loaded')\r\n",
        "\r\n",
        "fig_size = [18, 5]\r\n",
        "label_fontsize = 20\r\n",
        "fig = plt.figure(figsize=fig_size)\r\n",
        "for img_sample in np.arange(10):  \r\n",
        "  img_index = np.where(y_train==img_sample)[0][0]\r\n",
        "  img = x_train[img_index]\r\n",
        "  ax = plt.subplot(2, 5, img_sample+1)\r\n",
        "  ax.imshow(img, cmap='gray')\r\n",
        "  ax.get_xaxis().set_visible(False)\r\n",
        "  ax.get_yaxis().set_visible(False)"
      ],
      "execution_count": null,
      "outputs": [
        {
          "output_type": "stream",
          "text": [
            "Loading MNIST dataset\n",
            "Data is successfully loaded\n"
          ],
          "name": "stdout"
        },
        {
          "output_type": "display_data",
          "data": {
            "image/png": "[encoded data removed]",
            "text/plain": [
              "<Figure size 1296x360 with 10 Axes>"
            ]
          },
          "metadata": {
            "tags": [],
            "needs_background": "light"
          }
        }
      ]
    },
    {
      "cell_type": "markdown",
      "metadata": {
        "id": "Ca29di7tOTh_"
      },
      "source": [
        "###Convert y labels (both test and train) to one-hot vectors"
      ]
    },
    {
      "cell_type": "code",
      "metadata": {
        "colab": {
          "base_uri": "https://localhost:8080/"
        },
        "id": "d2UXN-6yOU3p",
        "outputId": "642364e8-39a8-456f-db83-a5e96554e1c5"
      },
      "source": [
        "print('Converting y labels of test and train data to one-hot vectors')\r\n",
        "y_train_one_hot = tf.one_hot(y_train, n_classes)\r\n",
        "y_train_one_hot = y_train_one_hot.eval(session=tf.compat.v1.Session())\r\n",
        "y_test_one_hot = tf.one_hot(y_test, n_classes)\r\n",
        "y_test_one_hot = y_test_one_hot.eval(session=tf.compat.v1.Session())"
      ],
      "execution_count": null,
      "outputs": [
        {
          "output_type": "stream",
          "text": [
            "Converting y labels of test and train data to one-hot vectors\n"
          ],
          "name": "stdout"
        }
      ]
    },
    {
      "cell_type": "markdown",
      "metadata": {
        "id": "LSZZpWznOYlW"
      },
      "source": [
        "###Reshape input images to flattened vectors"
      ]
    },
    {
      "cell_type": "code",
      "metadata": {
        "colab": {
          "base_uri": "https://localhost:8080/"
        },
        "id": "WDbhJwCIOctg",
        "outputId": "9f6182b6-bffb-4921-cf36-c5c7925ad7c3"
      },
      "source": [
        "print('Reshaping test and train input data to flattened vectors')\r\n",
        "x_train_reshape = x_train.reshape(x_train.shape[0], np.prod(x_train.shape[1:]))\r\n",
        "x_test_reshape = x_test.reshape(x_test.shape[0], np.prod(x_test.shape[1:]))"
      ],
      "execution_count": null,
      "outputs": [
        {
          "output_type": "stream",
          "text": [
            "Reshaping test and train input data to flattened vectors\n"
          ],
          "name": "stdout"
        }
      ]
    },
    {
      "cell_type": "markdown",
      "metadata": {
        "id": "OiEnbFZsOjuf"
      },
      "source": [
        "###Initialise place holders for data and label"
      ]
    },
    {
      "cell_type": "code",
      "metadata": {
        "id": "n0UGRN5cOkyP"
      },
      "source": [
        "n_inp_features = x_train_reshape.shape[-1]\r\n",
        "n_data_split = ceil(x_train.shape[0]/n_batch)\r\n",
        "x = tf.compat.v1.placeholder(dtype=tf.float32, shape=[None, n_inp_features])\r\n",
        "y = tf.compat.v1.placeholder(dtype=tf.float32)"
      ],
      "execution_count": null,
      "outputs": []
    },
    {
      "cell_type": "markdown",
      "metadata": {
        "id": "8Tf8-YyPOoi_"
      },
      "source": [
        "###Initalize variables for weight matrix"
      ]
    },
    {
      "cell_type": "code",
      "metadata": {
        "id": "-nAB4l2VQ5i_"
      },
      "source": [
        "layer = 0\r\n",
        "layer_dict = {}\r\n",
        "layer_dict[layer] = {'weights':tf.Variable(tf.random.normal([n_inp_features, n_classes], stddev=1/tf.sqrt(float(n_inp_features))), dtype=tf.float32, name='weights_{}'.format(layer)), \r\n",
        "          'biases':tf.Variable(tf.random.normal([n_classes]), dtype=tf.float32, name='biases_{}'.format(layer))}"
      ],
      "execution_count": null,
      "outputs": []
    },
    {
      "cell_type": "markdown",
      "metadata": {
        "id": "fULXUcM8SD5F"
      },
      "source": [
        "###Model Logistic regression"
      ]
    },
    {
      "cell_type": "code",
      "metadata": {
        "id": "aleuEsyRR1MQ"
      },
      "source": [
        "def logistic_regression(data):\r\n",
        "  W = layer_dict[0]['weights']\r\n",
        "  b = layer_dict[0]['biases']\r\n",
        "  return tf.nn.softmax(tf.add(tf.matmul(data, W), b))"
      ],
      "execution_count": null,
      "outputs": []
    },
    {
      "cell_type": "markdown",
      "metadata": {
        "id": "KsAtxzGFSoj-"
      },
      "source": [
        "###Train Logistic regression"
      ]
    },
    {
      "cell_type": "code",
      "metadata": {
        "id": "M4q5HI8ZR4Od"
      },
      "source": [
        "def train_logistic_regression(x):\r\n",
        "  start_time = time.time()\r\n",
        "\r\n",
        "  prediction = logistic_regression(x)\r\n",
        "  correct = tf.equal(tf.argmax(prediction, 1), tf.argmax(y, 1))\r\n",
        "  accuracy = tf.reduce_mean(tf.cast(correct, 'float'))\r\n",
        "  layer_weight = layer_dict[0]['weights']\r\n",
        "  layer_bias = layer_dict[0]['biases']\r\n",
        "  weight_regularization = regularizer_rate*tf.nn.l2_loss(layer_weight)\r\n",
        "  weight_list = []\r\n",
        "  bias_list = []\r\n",
        "  weight_list.append(layer_weight)\r\n",
        "  bias_list.append(layer_bias)\r\n",
        "  optimize_var_list = weight_list + bias_list\r\n",
        "  \r\n",
        "  cost = tf.reduce_mean(tf.nn.softmax_cross_entropy_with_logits(logits=prediction, labels=y)) + weight_regularization\r\n",
        "  optimizer = tf.compat.v1.train.AdamOptimizer(learning_rate=learning_rate).minimize(cost, var_list=optimize_var_list)\r\n",
        "\r\n",
        "  with tf.compat.v1.Session() as sess:\r\n",
        "    sess.run(tf.compat.v1.global_variables_initializer())\r\n",
        "    data_index_arr = np.arange(x_train.shape[0])\r\n",
        "    epch_cost_list = []\r\n",
        "    epch_accuracy_list = []\r\n",
        "    for epoch in range(n_epoch):\r\n",
        "      np.random.shuffle(data_index_arr)\r\n",
        "      cost_ = 0\r\n",
        "      for index_split in np.array_split(data_index_arr, n_data_split):\r\n",
        "        x_train_batch = x_train_reshape[index_split]\r\n",
        "        y_train_batch = y_train_one_hot[index_split]\r\n",
        "        sess.run(optimizer, feed_dict={x:x_train_batch, y:y_train_batch})\r\n",
        "        cost_ = cost_ + sess.run(cost, feed_dict={x:x_train_batch, y:y_train_batch})\r\n",
        "      epch_cost_list.append(cost_)\r\n",
        "      epch_accuracy = sess.run(accuracy, feed_dict={x:x_train_reshape, y:y_train_one_hot})\r\n",
        "      epch_accuracy_list.append(epch_accuracy)\r\n",
        "      print('Epoch = {}, cost = {}, accuracy = {}'.format(epoch, cost_, epch_accuracy))\r\n",
        "\r\n",
        "    print('Accuracy on test dataset = {}'.format(sess.run(accuracy, feed_dict={x:x_test_reshape, y:y_test_one_hot})))\r\n",
        "\r\n",
        "    print('Plotting cost function vs training epoch')\r\n",
        "    fig_size = [10, 5]\r\n",
        "    label_fontsize = 18\r\n",
        "    fig = plt.figure(figsize=fig_size)\r\n",
        "    ax = plt.subplot(131)\r\n",
        "    epoch_arr = np.arange(n_epoch)\r\n",
        "    ax.plot(epoch_arr, epch_cost_list, linewidth=3)\r\n",
        "    ax.set_xlabel('Epoch number', fontsize=label_fontsize)\r\n",
        "    ax.set_ylabel('Cost function', fontsize=label_fontsize)\r\n",
        "    ax.set_title('Cost function vs training epoch', fontsize=label_fontsize)\r\n",
        "    ax.set_xticks(epoch_arr)\r\n",
        "    ax.spines['right'].set_visible(False)\r\n",
        "    ax.spines['top'].set_visible(False)\r\n",
        "\r\n",
        "    print('Plotting accuracy vs training epoch')\r\n",
        "    ax = plt.subplot(133)\r\n",
        "    epoch_arr = np.arange(n_epoch)\r\n",
        "    ax.plot(epoch_arr, epch_accuracy_list, linewidth=3)\r\n",
        "    ax.set_xlabel('Epoch number', fontsize=label_fontsize)\r\n",
        "    ax.set_ylabel('Accuracy', fontsize=label_fontsize)\r\n",
        "    ax.set_title('Accuracy vs training epoch', fontsize=label_fontsize)\r\n",
        "    ax.set_xticks(epoch_arr)\r\n",
        "    ax.spines['right'].set_visible(False)\r\n",
        "    ax.spines['top'].set_visible(False)\r\n",
        "    plt.show()\r\n",
        "\r\n",
        "    print('Saving checkpoints...')\r\n",
        "    variable_list = []\r\n",
        "    layer = 0\r\n",
        "    globals()[f\"weight_{layer}\"] = layer_dict[layer]['weights']\r\n",
        "    globals()[f\"bias_{layer}\"] = layer_dict[layer]['biases']\r\n",
        "    variable_list.append(globals()[f\"weight_{layer}\"])\r\n",
        "    variable_list.append(globals()[f\"bias_{layer}\"])\r\n",
        "    saver = tf.compat.v1.train.Saver(variable_list)\r\n",
        "    save_path = saver.save(sess, \"./saved_variables_logistic_regression.ckpt\")\r\n",
        "    print('Checkpoints are saved')\r\n",
        "    end_time = time.time()\r\n",
        "    tot_time = round((end_time-start_time)/60, 2)\r\n",
        "    print('Logistic regression training is completed in {} minutes'.format(tot_time))\r\n"
      ],
      "execution_count": null,
      "outputs": []
    },
    {
      "cell_type": "markdown",
      "metadata": {
        "id": "SI3yxLpOV7Qs"
      },
      "source": [
        "###Run the network"
      ]
    },
    {
      "cell_type": "code",
      "metadata": {
        "colab": {
          "base_uri": "https://localhost:8080/",
          "height": 715
        },
        "id": "9ma_lRcKV6ht",
        "outputId": "627ed62c-dbc5-4647-db9d-2fe3f754b65d"
      },
      "source": [
        "train_logistic_regression(x)"
      ],
      "execution_count": null,
      "outputs": [
        {
          "output_type": "stream",
          "text": [
            "Epoch = 0, cost = 863.2020568847656, accuracy = 0.8791833519935608\n",
            "Epoch = 1, cost = 820.1555382013321, accuracy = 0.888700008392334\n",
            "Epoch = 2, cost = 818.6963338851929, accuracy = 0.8888000249862671\n",
            "Epoch = 3, cost = 818.327671289444, accuracy = 0.8905666470527649\n",
            "Epoch = 4, cost = 818.0618361234665, accuracy = 0.8899999856948853\n",
            "Epoch = 5, cost = 817.9011317491531, accuracy = 0.8894333243370056\n",
            "Epoch = 6, cost = 817.7370653152466, accuracy = 0.888949990272522\n",
            "Epoch = 7, cost = 817.5158770084381, accuracy = 0.8881499767303467\n",
            "Epoch = 8, cost = 817.3935967683792, accuracy = 0.8889333605766296\n",
            "Epoch = 9, cost = 817.2943387031555, accuracy = 0.8883333206176758\n",
            "Epoch = 10, cost = 817.2065362930298, accuracy = 0.8891500234603882\n",
            "Epoch = 11, cost = 817.1009976863861, accuracy = 0.8872166872024536\n",
            "Epoch = 12, cost = 817.0466001033783, accuracy = 0.8884999752044678\n",
            "Epoch = 13, cost = 816.9685750007629, accuracy = 0.8909333348274231\n",
            "Epoch = 14, cost = 816.9465305805206, accuracy = 0.8894166946411133\n",
            "Accuracy on test dataset = 0.8981000185012817\n",
            "Plotting cost function vs training epoch\n",
            "Plotting accuracy vs training epoch\n"
          ],
          "name": "stdout"
        },
        {
          "output_type": "display_data",
          "data": {
            "image/png": "[encoded data removed]",
            "text/plain": [
              "<Figure size 720x360 with 2 Axes>"
            ]
          },
          "metadata": {
            "tags": [],
            "needs_background": "light"
          }
        },
        {
          "output_type": "stream",
          "text": [
            "Saving checkpoints...\n",
            "Checkpoints are saved\n",
            "Logistic regression training is completed in 0.39 minutes\n"
          ],
          "name": "stdout"
        }
      ]
    },
    {
      "cell_type": "markdown",
      "metadata": {
        "id": "Pi3axuujWg2k"
      },
      "source": [
        "\r\n",
        "###Prediction using the trained network \r\n",
        "####(a) Set the prediction function and load the saved weights"
      ]
    },
    {
      "cell_type": "code",
      "metadata": {
        "id": "4wIGwNqiWh9b"
      },
      "source": [
        "variable_list = []\r\n",
        "layer = 0\r\n",
        "globals()[f\"weight_{layer}\"] = layer_dict[layer]['weights']\r\n",
        "globals()[f\"bias_{layer}\"] = layer_dict[layer]['biases']\r\n",
        "variable_list.append(globals()[f\"weight_{layer}\"])\r\n",
        "variable_list.append(globals()[f\"bias_{layer}\"])\r\n",
        "saver = tf.compat.v1.train.Saver(variable_list)\r\n",
        "\r\n",
        "def classify(image):\r\n",
        "  image = image[tf.newaxis, ..., tf.newaxis]\r\n",
        "  image_ = tf.image.resize(image, [28, 28])\r\n",
        "  image_ = tf.reshape(image_, [28, 28])\r\n",
        "  image_ = image_.eval(session=tf.compat.v1.Session())\r\n",
        "  image_reshape = image_.reshape(-1, np.prod(image_.shape[0:]))\r\n",
        "\r\n",
        "  prediction = logistic_regression(x)\r\n",
        "\r\n",
        "  with tf.compat.v1.Session() as sess:\r\n",
        "    saver.restore(sess, \"./saved_variables_logistic_regression.ckpt\")\r\n",
        "    layer_dict = {}\r\n",
        "    layer = 0\r\n",
        "    layer_dict[layer] = {'weights':globals()[f\"weight_{layer}\"], 'biases':globals()[f\"bias_{layer}\"]}\r\n",
        "\r\n",
        "    prediction_ = sess.run(prediction, feed_dict={x:image_reshape})\r\n",
        "    prediction_ = prediction_[0]\r\n",
        "    return prediction_"
      ],
      "execution_count": null,
      "outputs": []
    },
    {
      "cell_type": "markdown",
      "metadata": {
        "id": "3e3hwSHXXVhL"
      },
      "source": [
        "\r\n",
        "###Prediction using the trained network \r\n",
        "####(b) Input a test image to the network"
      ]
    },
    {
      "cell_type": "code",
      "metadata": {
        "colab": {
          "base_uri": "https://localhost:8080/",
          "height": 385
        },
        "id": "V-M5oganXTYA",
        "outputId": "80662a88-f446-4f85-85a8-bf3e113201d7"
      },
      "source": [
        "# There are a total of 10,000 test images. Select any one of them below ranging from 0-9999 \r\n",
        "# (For example, give test_image_index = 0, for inputing the first test image)\r\n",
        "test_image_index = 3321\r\n",
        "\r\n",
        "# Get the test image\r\n",
        "input_class = y_test[test_image_index]\r\n",
        "input_image = x_test[test_image_index]\r\n",
        "prediction_out = classify(x_test[test_image_index])*100\r\n",
        "predicted_max_score = round(prediction_out.max(),2)\r\n",
        "\r\n",
        "# Plot input image\r\n",
        "fig_size = [18, 5]\r\n",
        "label_fontsize = 20\r\n",
        "fig = plt.figure(figsize=fig_size)\r\n",
        "ax = plt.subplot(131)\r\n",
        "ax.imshow(input_image, cmap='gray')\r\n",
        "ax.get_xaxis().set_visible(False)\r\n",
        "ax.get_yaxis().set_visible(False)\r\n",
        "ax.set_title('You selected the image of number {}'.format(input_class), fontsize=label_fontsize)\r\n",
        "\r\n",
        "# Plot network output\r\n",
        "ax = plt.subplot(133)\r\n",
        "class_arr = np.arange(n_classes)\r\n",
        "ax.bar(class_arr, prediction_out, linewidth=3, color=[0.4,0.4,0.4])\r\n",
        "ax.set_xlabel('Output classes', fontsize=label_fontsize)\r\n",
        "ax.set_ylabel('Prediction score (%)', fontsize=label_fontsize)\r\n",
        "ax.set_title('Network predicted this as {0} (with {1:.2f}% score)'.format(np.argmax(prediction_out), predicted_max_score), fontsize=label_fontsize)\r\n",
        "ax.set_xticks(class_arr)\r\n",
        "ax.set_ylim(0,101)\r\n",
        "ax.tick_params(labelsize=14)\r\n",
        "ax.spines['right'].set_visible(False)\r\n",
        "ax.spines['top'].set_visible(False)\r\n",
        "plt.show() "
      ],
      "execution_count": null,
      "outputs": [
        {
          "output_type": "stream",
          "text": [
            "INFO:tensorflow:Restoring parameters from ./saved_variables_logistic_regression.ckpt\n"
          ],
          "name": "stdout"
        },
        {
          "output_type": "display_data",
          "data": {
            "image/png": "[encoded data removed]",
            "text/plain": [
              "<Figure size 1296x360 with 2 Axes>"
            ]
          },
          "metadata": {
            "tags": [],
            "needs_background": "light"
          }
        }
      ]
    },
    {
      "cell_type": "code",
      "metadata": {
        "id": "IrLrWfbWY6g8"
      },
      "source": [
        ""
      ],
      "execution_count": null,
      "outputs": []
    }
  ]
}